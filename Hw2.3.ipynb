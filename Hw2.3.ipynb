{
 "cells": [
  {
   "cell_type": "code",
   "execution_count": 67,
   "id": "181fea22-b12a-407a-9a42-95c859a9d9b6",
   "metadata": {},
   "outputs": [],
   "source": [
    "import os\n",
    "import pandas as pd\n",
    "import matplotlib.pyplot as plt\n",
    "\n"
   ]
  },
  {
   "cell_type": "code",
   "execution_count": 69,
   "id": "780ad317-84a6-41c6-a16a-37d41c48bcfe",
   "metadata": {},
   "outputs": [
    {
     "name": "stdout",
     "output_type": "stream",
     "text": [
      "['.ipynb_checkpoints', '2017_jun_final - 2017_jun_final.csv', 'bestsellers with categories.csv', 'HW1.ipynb', 'Hw2.1.ipynb', 'Hw2.2.ipynb', 'Hw2.3.ipynb', 'processed_data.csv', 'Untitled.ipynb']\n"
     ]
    }
   ],
   "source": [
    "print(os.listdir('C:/Users/MikeK/GoIT'))\n",
    "df = pd.read_csv('C:/Users/MikeK/GoIT/bestsellers with categories.csv')"
   ]
  },
  {
   "cell_type": "code",
   "execution_count": 71,
   "id": "5e45ce8c-1422-4801-8570-300e7d936b71",
   "metadata": {},
   "outputs": [
    {
     "data": {
      "text/html": [
       "<div>\n",
       "<style scoped>\n",
       "    .dataframe tbody tr th:only-of-type {\n",
       "        vertical-align: middle;\n",
       "    }\n",
       "\n",
       "    .dataframe tbody tr th {\n",
       "        vertical-align: top;\n",
       "    }\n",
       "\n",
       "    .dataframe thead th {\n",
       "        text-align: right;\n",
       "    }\n",
       "</style>\n",
       "<table border=\"1\" class=\"dataframe\">\n",
       "  <thead>\n",
       "    <tr style=\"text-align: right;\">\n",
       "      <th></th>\n",
       "      <th>Name</th>\n",
       "      <th>Author</th>\n",
       "      <th>User Rating</th>\n",
       "      <th>Reviews</th>\n",
       "      <th>Price</th>\n",
       "      <th>Year</th>\n",
       "      <th>Genre</th>\n",
       "    </tr>\n",
       "  </thead>\n",
       "  <tbody>\n",
       "    <tr>\n",
       "      <th>0</th>\n",
       "      <td>10-Day Green Smoothie Cleanse</td>\n",
       "      <td>JJ Smith</td>\n",
       "      <td>4.7</td>\n",
       "      <td>17350</td>\n",
       "      <td>8</td>\n",
       "      <td>2016</td>\n",
       "      <td>Non Fiction</td>\n",
       "    </tr>\n",
       "    <tr>\n",
       "      <th>1</th>\n",
       "      <td>11/22/63: A Novel</td>\n",
       "      <td>Stephen King</td>\n",
       "      <td>4.6</td>\n",
       "      <td>2052</td>\n",
       "      <td>22</td>\n",
       "      <td>2011</td>\n",
       "      <td>Fiction</td>\n",
       "    </tr>\n",
       "    <tr>\n",
       "      <th>2</th>\n",
       "      <td>12 Rules for Life: An Antidote to Chaos</td>\n",
       "      <td>Jordan B. Peterson</td>\n",
       "      <td>4.7</td>\n",
       "      <td>18979</td>\n",
       "      <td>15</td>\n",
       "      <td>2018</td>\n",
       "      <td>Non Fiction</td>\n",
       "    </tr>\n",
       "    <tr>\n",
       "      <th>3</th>\n",
       "      <td>1984 (Signet Classics)</td>\n",
       "      <td>George Orwell</td>\n",
       "      <td>4.7</td>\n",
       "      <td>21424</td>\n",
       "      <td>6</td>\n",
       "      <td>2017</td>\n",
       "      <td>Fiction</td>\n",
       "    </tr>\n",
       "    <tr>\n",
       "      <th>4</th>\n",
       "      <td>5,000 Awesome Facts (About Everything!) (Natio...</td>\n",
       "      <td>National Geographic Kids</td>\n",
       "      <td>4.8</td>\n",
       "      <td>7665</td>\n",
       "      <td>12</td>\n",
       "      <td>2019</td>\n",
       "      <td>Non Fiction</td>\n",
       "    </tr>\n",
       "  </tbody>\n",
       "</table>\n",
       "</div>"
      ],
      "text/plain": [
       "                                                Name  \\\n",
       "0                      10-Day Green Smoothie Cleanse   \n",
       "1                                  11/22/63: A Novel   \n",
       "2            12 Rules for Life: An Antidote to Chaos   \n",
       "3                             1984 (Signet Classics)   \n",
       "4  5,000 Awesome Facts (About Everything!) (Natio...   \n",
       "\n",
       "                     Author  User Rating  Reviews  Price  Year        Genre  \n",
       "0                  JJ Smith          4.7    17350      8  2016  Non Fiction  \n",
       "1              Stephen King          4.6     2052     22  2011      Fiction  \n",
       "2        Jordan B. Peterson          4.7    18979     15  2018  Non Fiction  \n",
       "3             George Orwell          4.7    21424      6  2017      Fiction  \n",
       "4  National Geographic Kids          4.8     7665     12  2019  Non Fiction  "
      ]
     },
     "execution_count": 71,
     "metadata": {},
     "output_type": "execute_result"
    }
   ],
   "source": [
    "# Вивести перші п'ять рядків\n",
    "df.head()"
   ]
  },
  {
   "cell_type": "code",
   "execution_count": 73,
   "id": "af31a4e0-caea-4beb-9810-293292efe71c",
   "metadata": {},
   "outputs": [
    {
     "data": {
      "text/plain": [
       "(550, 7)"
      ]
     },
     "execution_count": 73,
     "metadata": {},
     "output_type": "execute_result"
    }
   ],
   "source": [
    "# Вивести розміри датасету\n",
    "df.shape"
   ]
  },
  {
   "cell_type": "code",
   "execution_count": 75,
   "id": "fb9028e4-01f4-41b6-bfa8-5ff1849a216a",
   "metadata": {},
   "outputs": [
    {
     "name": "stdout",
     "output_type": "stream",
     "text": [
      "Відповідь: Датасет зберігає дані про 351 книг.\n"
     ]
    }
   ],
   "source": [
    "# Про скільки книг зберігає дані датасет?\n",
    "# num_unique_books = len(df['Name'].unique())\n",
    "num_unique_books = df['Name'].nunique()\n",
    "\n",
    "print(f\"Відповідь: Датасет зберігає дані про {num_unique_books} книг.\")"
   ]
  },
  {
   "cell_type": "code",
   "execution_count": 77,
   "id": "6fa1fc5c-8c98-4284-94a4-774f2f4a9f64",
   "metadata": {},
   "outputs": [
    {
     "data": {
      "text/html": [
       "<div>\n",
       "<style scoped>\n",
       "    .dataframe tbody tr th:only-of-type {\n",
       "        vertical-align: middle;\n",
       "    }\n",
       "\n",
       "    .dataframe tbody tr th {\n",
       "        vertical-align: top;\n",
       "    }\n",
       "\n",
       "    .dataframe thead th {\n",
       "        text-align: right;\n",
       "    }\n",
       "</style>\n",
       "<table border=\"1\" class=\"dataframe\">\n",
       "  <thead>\n",
       "    <tr style=\"text-align: right;\">\n",
       "      <th></th>\n",
       "      <th>name</th>\n",
       "      <th>author</th>\n",
       "      <th>user_rating</th>\n",
       "      <th>reviews</th>\n",
       "      <th>price</th>\n",
       "      <th>year</th>\n",
       "      <th>genre</th>\n",
       "    </tr>\n",
       "  </thead>\n",
       "  <tbody>\n",
       "    <tr>\n",
       "      <th>0</th>\n",
       "      <td>10-Day Green Smoothie Cleanse</td>\n",
       "      <td>JJ Smith</td>\n",
       "      <td>4.7</td>\n",
       "      <td>17350</td>\n",
       "      <td>8</td>\n",
       "      <td>2016</td>\n",
       "      <td>Non Fiction</td>\n",
       "    </tr>\n",
       "    <tr>\n",
       "      <th>1</th>\n",
       "      <td>11/22/63: A Novel</td>\n",
       "      <td>Stephen King</td>\n",
       "      <td>4.6</td>\n",
       "      <td>2052</td>\n",
       "      <td>22</td>\n",
       "      <td>2011</td>\n",
       "      <td>Fiction</td>\n",
       "    </tr>\n",
       "    <tr>\n",
       "      <th>2</th>\n",
       "      <td>12 Rules for Life: An Antidote to Chaos</td>\n",
       "      <td>Jordan B. Peterson</td>\n",
       "      <td>4.7</td>\n",
       "      <td>18979</td>\n",
       "      <td>15</td>\n",
       "      <td>2018</td>\n",
       "      <td>Non Fiction</td>\n",
       "    </tr>\n",
       "    <tr>\n",
       "      <th>3</th>\n",
       "      <td>1984 (Signet Classics)</td>\n",
       "      <td>George Orwell</td>\n",
       "      <td>4.7</td>\n",
       "      <td>21424</td>\n",
       "      <td>6</td>\n",
       "      <td>2017</td>\n",
       "      <td>Fiction</td>\n",
       "    </tr>\n",
       "    <tr>\n",
       "      <th>4</th>\n",
       "      <td>5,000 Awesome Facts (About Everything!) (Natio...</td>\n",
       "      <td>National Geographic Kids</td>\n",
       "      <td>4.8</td>\n",
       "      <td>7665</td>\n",
       "      <td>12</td>\n",
       "      <td>2019</td>\n",
       "      <td>Non Fiction</td>\n",
       "    </tr>\n",
       "  </tbody>\n",
       "</table>\n",
       "</div>"
      ],
      "text/plain": [
       "                                                name  \\\n",
       "0                      10-Day Green Smoothie Cleanse   \n",
       "1                                  11/22/63: A Novel   \n",
       "2            12 Rules for Life: An Antidote to Chaos   \n",
       "3                             1984 (Signet Classics)   \n",
       "4  5,000 Awesome Facts (About Everything!) (Natio...   \n",
       "\n",
       "                     author  user_rating  reviews  price  year        genre  \n",
       "0                  JJ Smith          4.7    17350      8  2016  Non Fiction  \n",
       "1              Stephen King          4.6     2052     22  2011      Fiction  \n",
       "2        Jordan B. Peterson          4.7    18979     15  2018  Non Fiction  \n",
       "3             George Orwell          4.7    21424      6  2017      Fiction  \n",
       "4  National Geographic Kids          4.8     7665     12  2019  Non Fiction  "
      ]
     },
     "execution_count": 77,
     "metadata": {},
     "output_type": "execute_result"
    }
   ],
   "source": [
    "# Змінити назви стовпців\n",
    "df.columns = ['name', 'author', 'user_rating', 'reviews', 'price', 'year', 'genre']\n",
    "df.head()"
   ]
  },
  {
   "cell_type": "code",
   "execution_count": 79,
   "id": "299a2df8-7ca4-4d84-bcb2-8ae55075940a",
   "metadata": {},
   "outputs": [
    {
     "name": "stdout",
     "output_type": "stream",
     "text": [
      "Відповідь: Ні, пропусків немає.\n"
     ]
    }
   ],
   "source": [
    "# Перевірка на пропуски\n",
    "missing_data = df.isna().sum()\n",
    "\n",
    "print(f\"Відповідь: {'Так' if missing_data.any() else 'Ні'}, пропусків немає.\")"
   ]
  },
  {
   "cell_type": "code",
   "execution_count": 81,
   "id": "9fed4ae2-dc38-4ea9-b7cf-bd3ce69de62f",
   "metadata": {},
   "outputs": [
    {
     "name": "stdout",
     "output_type": "stream",
     "text": [
      "Відповідь: Унікальні жанри - Non Fiction, Fiction.\n"
     ]
    }
   ],
   "source": [
    "# Унікальні значення в колонці genre\n",
    "unique_genres = df['genre'].unique()\n",
    "\n",
    "print(f\"Відповідь: Унікальні жанри - {', '.join(unique_genres)}.\")"
   ]
  },
  {
   "cell_type": "code",
   "execution_count": 95,
   "id": "81e3693c-0855-4098-99c0-3516af83494f",
   "metadata": {},
   "outputs": [
    {
     "data": {
      "image/png": "[encoded data removed]",
      "text/plain": [
       "<Figure size 640x480 with 1 Axes>"
      ]
     },
     "metadata": {},
     "output_type": "display_data"
    },
    {
     "data": {
      "image/png": "[encoded data removed]",
      "text/plain": [
       "<Figure size 800x800 with 1 Axes>"
      ]
     },
     "metadata": {},
     "output_type": "display_data"
    },
    {
     "data": {
      "image/png": "[encoded data removed]",
      "text/plain": [
       "<Figure size 800x600 with 1 Axes>"
      ]
     },
     "metadata": {},
     "output_type": "display_data"
    }
   ],
   "source": [
    "# Діаграма розподілу цін\n",
    "df['price'].plot(kind='hist')\n",
    "\n",
    "\n",
    "\n",
    "genre_counts = df['genre'].value_counts()\n",
    "\n",
    "plt.figure(figsize=(8, 8))\n",
    "genre_counts.plot(kind='pie', autopct='%1.1f%%', startangle=140, colors=['skyblue', 'lightcoral'])\n",
    "\n",
    "# Додаткові налаштування для краси\n",
    "plt.title('Розподіл книг за жанрами')\n",
    "plt.ylabel('')\n",
    "\n",
    "# Показати діаграму\n",
    "plt.show()\n",
    "\n",
    "plt.figure(figsize=(8, 6))\n",
    "genre_counts.plot(kind='bar', color=['skyblue', 'lightcoral'])\n",
    "\n",
    "plt.title('Кількість книг за жанрами')\n",
    "plt.xlabel('Жанр')\n",
    "plt.ylabel('Кількість книг')\n",
    "\n",
    "plt.show()\n",
    "\n",
    "\n",
    "\n",
    "\n"
   ]
  },
  {
   "cell_type": "code",
   "execution_count": 97,
   "id": "eafe850b-1ce6-40ff-8dfb-96ef4cea7cb8",
   "metadata": {},
   "outputs": [
    {
     "name": "stdout",
     "output_type": "stream",
     "text": [
      "Відповідь: Максимальна ціна: 105\n",
      "Відповідь: Мінімальна ціна: 0\n",
      "Відповідь: Середня ціна: 13.10\n",
      "Відповідь: Медіанна ціна: 11.0\n"
     ]
    }
   ],
   "source": [
    "# Визначення статистичних показників цін\n",
    "max_price = df['price'].max()\n",
    "min_price = df['price'].min()\n",
    "mean_price = df['price'].mean()\n",
    "median_price = df['price'].median()\n",
    "\n",
    "print(f\"Відповідь: Максимальна ціна: {max_price}\")\n",
    "print(f\"Відповідь: Мінімальна ціна: {min_price}\")\n",
    "print(f\"Відповідь: Середня ціна: {mean_price:.2f}\")\n",
    "print(f\"Відповідь: Медіанна ціна: {median_price}\")"
   ]
  },
  {
   "cell_type": "code",
   "execution_count": null,
   "id": "65d6e8ec-1ee1-4965-b71d-b232d6bcd575",
   "metadata": {},
   "outputs": [],
   "source": []
  },
  {
   "cell_type": "code",
   "execution_count": 99,
   "id": "ce4dbaf6-3d8b-4886-833d-02817bd2b19d",
   "metadata": {},
   "outputs": [
    {
     "name": "stdout",
     "output_type": "stream",
     "text": [
      "Відповідь: Найвищий рейтинг у датасеті - 4.9.\n"
     ]
    }
   ],
   "source": [
    "# Який рейтинг у датасеті найвищий?\n",
    "max_rating = df['user_rating'].max()\n",
    "\n",
    "print(f\"Відповідь: Найвищий рейтинг у датасеті - {max_rating}.\")"
   ]
  },
  {
   "cell_type": "code",
   "execution_count": 101,
   "id": "749bd554-cd71-43a4-8cdd-2cd9e365a8bb",
   "metadata": {},
   "outputs": [
    {
     "name": "stdout",
     "output_type": "stream",
     "text": [
      "Відповідь: 52 книг мають найвищий рейтинг.\n"
     ]
    }
   ],
   "source": [
    "# Скільки книг мають найвищий рейтинг?\n",
    "count_max_rating = df[df['user_rating'] == max_rating].shape[0]\n",
    "\n",
    "print(f\"Відповідь: {count_max_rating} книг мають найвищий рейтинг.\")"
   ]
  },
  {
   "cell_type": "code",
   "execution_count": 103,
   "id": "fa1fdc16-04a3-489f-9817-c83d1b4e64d6",
   "metadata": {},
   "outputs": [
    {
     "name": "stdout",
     "output_type": "stream",
     "text": [
      "Відповідь: Книга з найбільшою кількістю відгуків - 'Where the Crawdads Sing'.\n"
     ]
    }
   ],
   "source": [
    "# Яка книга має найбільше відгуків?\n",
    "most_reviews_book = df[df['reviews'] == df['reviews'].max()]['name'].values[0]\n",
    "\n",
    "print(f\"Відповідь: Книга з найбільшою кількістю відгуків - '{most_reviews_book}'.\")"
   ]
  },
  {
   "cell_type": "code",
   "execution_count": 127,
   "id": "95658cab-b3a8-4e8a-a9de-a8ddd04ab64f",
   "metadata": {},
   "outputs": [
    {
     "name": "stdout",
     "output_type": "stream",
     "text": [
      "Відповідь: Найдорожча книга у 2015 році - 'Publication Manual of the American Psychological Association, 6th Edition'. Її ціна склала - 46\n"
     ]
    }
   ],
   "source": [
    "# Яка книга найдорожча у 2015 році?\n",
    "top_2015 = df[df['year'] == 2015]\n",
    "most_expensive_2015 = top_2015[top_2015['price'] == top_2015['price'].max()]['name'].values[0]\n",
    "most_expensive_2015_price = top_2015[top_2015['price'] == top_2015['price'].max()]['price'].values[0]\n",
    "\n",
    "print(f\"Відповідь: Найдорожча книга у 2015 році - '{most_expensive_2015}'. Її ціна склала - {most_expensive_2015_price}\")"
   ]
  },
  {
   "cell_type": "code",
   "execution_count": 129,
   "id": "21bfb70e-b6e5-49e0-9fe2-eacee2de93eb",
   "metadata": {},
   "outputs": [
    {
     "name": "stdout",
     "output_type": "stream",
     "text": [
      "Відповідь: 20 книг жанру Fiction у 2010 році.\n"
     ]
    }
   ],
   "source": [
    "# Скільки книг жанру Fiction у 2010 році?\n",
    "fiction_2010 = df[(df['genre'] == 'Fiction') & (df['year'] == 2010)].shape[0]\n",
    "\n",
    "print(f\"Відповідь: {fiction_2010} книг жанру Fiction у 2010 році.\")"
   ]
  },
  {
   "cell_type": "code",
   "execution_count": 143,
   "id": "dc6d2b73-4bf7-4a50-a9a7-720491cfa347",
   "metadata": {},
   "outputs": [
    {
     "name": "stdout",
     "output_type": "stream",
     "text": [
      "Відповідь: 1 книг з рейтингом 4.9 у 2010 та 2011 роках, і ці книги:\n",
      "Jesus Calling: Enjoying Peace in His Presence (with Scripture References)\n"
     ]
    }
   ],
   "source": [
    "# Скільки книг з рейтингом 4.9 у 2010 та 2011 роках?\n",
    "books_49_2010_2011 = df[(df['user_rating'] == 4.9) & (df['year'].isin([2010, 2011]))]\n",
    "rating_49_2010_2011 = books_49_2010_2011.shape[0]\n",
    "rating_49_2010_2011_books = books_49_2010_2011['name'].unique()\n",
    "\n",
    "print(f\"Відповідь: {rating_49_2010_2011} книг з рейтингом 4.9 у 2010 та 2011 роках, і ці книги:\")\n",
    "for book in rating_49_2010_2011_books:\n",
    "    print(book)"
   ]
  },
  {
   "cell_type": "code",
   "execution_count": 145,
   "id": "8ea3d589-cf7f-4514-95da-3cefa592cbb9",
   "metadata": {},
   "outputs": [
    {
     "name": "stdout",
     "output_type": "stream",
     "text": [
      "Відповідь: Остання книга у відсортованому списку - 'Old School (Diary of a Wimpy Kid #10)'.\n"
     ]
    }
   ],
   "source": [
    "# Яка книга остання у відсортованому списку?\n",
    "sorted_books_2015 = df[(df['year'] == 2015) & (df['price'] < 8)].sort_values(by='price')\n",
    "last_sorted_book = sorted_books_2015.iloc[-1]['name']\n",
    "\n",
    "print(f\"Відповідь: Остання книга у відсортованому списку - '{last_sorted_book}'.\")"
   ]
  },
  {
   "cell_type": "code",
   "execution_count": null,
   "id": "c5333284-47b0-4a05-80d6-7133e8264fba",
   "metadata": {},
   "outputs": [],
   "source": []
  },
  {
   "cell_type": "code",
   "execution_count": 160,
   "id": "850e518a-c939-4822-bf67-8e212f1a0eb4",
   "metadata": {},
   "outputs": [
    {
     "name": "stdout",
     "output_type": "stream",
     "text": [
      "Відповідь: Максимальна ціна для жанру Fiction: 82\n",
      "Відповідь: Мінімальна ціна для жанру Fiction (більша за 0): 2\n",
      "Відповідь: Максимальна ціна для жанру Non Fiction: 105\n",
      "Відповідь: Мінімальна ціна для жанру Non Fiction (більша за 0): 1\n"
     ]
    }
   ],
   "source": [
    "# Максимальна та мінімальна ціна для кожного жанру\n",
    "df_filtered = df[df['price'] > 0]\n",
    "\n",
    "genre_price_stats_filtered = df_filtered.groupby('genre')['price'].agg(['min', 'max'])\n",
    "\n",
    "max_fiction_price = genre_price_stats_filtered.loc['Fiction', 'max']\n",
    "min_fiction_price = genre_price_stats_filtered.loc['Fiction', 'min']\n",
    "max_non_fiction_price = genre_price_stats_filtered.loc['Non Fiction', 'max']\n",
    "min_non_fiction_price = genre_price_stats_filtered.loc['Non Fiction', 'min']\n",
    "\n",
    "print(f\"Відповідь: Максимальна ціна для жанру Fiction: {max_fiction_price}\")\n",
    "print(f\"Відповідь: Мінімальна ціна для жанру Fiction (більша за 0): {min_fiction_price}\")\n",
    "print(f\"Відповідь: Максимальна ціна для жанру Non Fiction: {max_non_fiction_price}\")\n",
    "print(f\"Відповідь: Мінімальна ціна для жанру Non Fiction (більша за 0): {min_non_fiction_price}\")\n"
   ]
  },
  {
   "cell_type": "code",
   "execution_count": 164,
   "id": "e75e7e0a-219f-43d8-89c3-41a811d9b3b3",
   "metadata": {},
   "outputs": [
    {
     "name": "stdout",
     "output_type": "stream",
     "text": [
      "Відповідь: Якої розмірності вийшла таблиця? (248, 2)\n",
      "Відповідь: Автор, який має найбільше книг: Jeff Kinney і у нього 12 книг.\n"
     ]
    }
   ],
   "source": [
    "# Кількість книг для кожного автора\n",
    "author_books_count = df.groupby('author')['name'].count().reset_index().rename(columns={'name': 'book_count'})\n",
    "\n",
    "table_shape = author_books_count.shape\n",
    "top_author = author_books_count.loc[author_books_count['book_count'].idxmax()]\n",
    "top_author_name = top_author['author']\n",
    "top_author_count = top_author['book_count']\n",
    "\n",
    "print(f\"Відповідь: Якої розмірності вийшла таблиця? {table_shape}\")\n",
    "print(f\"Відповідь: Автор, який має найбільше книг: {top_author_name} і у нього {top_author_count} книг.\")\n",
    "# print(f\"Відповідь: Скільки книг цього автора? {top_author_count}\")"
   ]
  },
  {
   "cell_type": "code",
   "execution_count": 170,
   "id": "2cc45278-3eaa-4c6e-a9c8-29c286e8c682",
   "metadata": {},
   "outputs": [
    {
     "name": "stdout",
     "output_type": "stream",
     "text": [
      "Відповідь: У Donna Tartt мінімальний середній рейтинг - 3.90\n"
     ]
    }
   ],
   "source": [
    "# Середній рейтинг для кожного автора\n",
    "author_avg_rating = df.groupby('author')['user_rating'].mean().reset_index().rename(columns={'user_rating': 'avg_rating'})\n",
    "\n",
    "min_avg_rating_author = author_avg_rating.loc[author_avg_rating['avg_rating'].idxmin()]\n",
    "min_avg_rating_author_name = min_avg_rating_author['author']\n",
    "min_avg_rating_author_rating = min_avg_rating_author['avg_rating']\n",
    "\n",
    "print(f\"Відповідь: У {min_avg_rating_author_name} мінімальний середній рейтинг - {min_avg_rating_author_rating:.2f}\")\n",
    "# print(f\"Відповідь: Який у цього автора середній рейтинг? {min_avg_rating_author_rating:.2f}\")"
   ]
  },
  {
   "cell_type": "code",
   "execution_count": 172,
   "id": "6b57ad97-d656-4e1c-b225-fa0adb62542b",
   "metadata": {},
   "outputs": [
    {
     "data": {
      "text/html": [
       "<div>\n",
       "<style scoped>\n",
       "    .dataframe tbody tr th:only-of-type {\n",
       "        vertical-align: middle;\n",
       "    }\n",
       "\n",
       "    .dataframe tbody tr th {\n",
       "        vertical-align: top;\n",
       "    }\n",
       "\n",
       "    .dataframe thead th {\n",
       "        text-align: right;\n",
       "    }\n",
       "</style>\n",
       "<table border=\"1\" class=\"dataframe\">\n",
       "  <thead>\n",
       "    <tr style=\"text-align: right;\">\n",
       "      <th></th>\n",
       "      <th>author</th>\n",
       "      <th>book_count</th>\n",
       "      <th>avg_rating</th>\n",
       "    </tr>\n",
       "  </thead>\n",
       "  <tbody>\n",
       "    <tr>\n",
       "      <th>0</th>\n",
       "      <td>Abraham Verghese</td>\n",
       "      <td>2</td>\n",
       "      <td>4.600000</td>\n",
       "    </tr>\n",
       "    <tr>\n",
       "      <th>1</th>\n",
       "      <td>Adam Gasiewski</td>\n",
       "      <td>1</td>\n",
       "      <td>4.400000</td>\n",
       "    </tr>\n",
       "    <tr>\n",
       "      <th>2</th>\n",
       "      <td>Adam Mansbach</td>\n",
       "      <td>1</td>\n",
       "      <td>4.800000</td>\n",
       "    </tr>\n",
       "    <tr>\n",
       "      <th>3</th>\n",
       "      <td>Adir Levy</td>\n",
       "      <td>1</td>\n",
       "      <td>4.800000</td>\n",
       "    </tr>\n",
       "    <tr>\n",
       "      <th>4</th>\n",
       "      <td>Admiral William H. McRaven</td>\n",
       "      <td>1</td>\n",
       "      <td>4.700000</td>\n",
       "    </tr>\n",
       "    <tr>\n",
       "      <th>...</th>\n",
       "      <td>...</td>\n",
       "      <td>...</td>\n",
       "      <td>...</td>\n",
       "    </tr>\n",
       "    <tr>\n",
       "      <th>243</th>\n",
       "      <td>Walter Isaacson</td>\n",
       "      <td>3</td>\n",
       "      <td>4.566667</td>\n",
       "    </tr>\n",
       "    <tr>\n",
       "      <th>244</th>\n",
       "      <td>William Davis</td>\n",
       "      <td>2</td>\n",
       "      <td>4.400000</td>\n",
       "    </tr>\n",
       "    <tr>\n",
       "      <th>245</th>\n",
       "      <td>William P. Young</td>\n",
       "      <td>2</td>\n",
       "      <td>4.600000</td>\n",
       "    </tr>\n",
       "    <tr>\n",
       "      <th>246</th>\n",
       "      <td>Wizards RPG Team</td>\n",
       "      <td>3</td>\n",
       "      <td>4.800000</td>\n",
       "    </tr>\n",
       "    <tr>\n",
       "      <th>247</th>\n",
       "      <td>Zhi Gang Sha</td>\n",
       "      <td>2</td>\n",
       "      <td>4.600000</td>\n",
       "    </tr>\n",
       "  </tbody>\n",
       "</table>\n",
       "<p>248 rows × 3 columns</p>\n",
       "</div>"
      ],
      "text/plain": [
       "                         author  book_count  avg_rating\n",
       "0              Abraham Verghese           2    4.600000\n",
       "1                Adam Gasiewski           1    4.400000\n",
       "2                 Adam Mansbach           1    4.800000\n",
       "3                     Adir Levy           1    4.800000\n",
       "4    Admiral William H. McRaven           1    4.700000\n",
       "..                          ...         ...         ...\n",
       "243             Walter Isaacson           3    4.566667\n",
       "244               William Davis           2    4.400000\n",
       "245            William P. Young           2    4.600000\n",
       "246            Wizards RPG Team           3    4.800000\n",
       "247                Zhi Gang Sha           2    4.600000\n",
       "\n",
       "[248 rows x 3 columns]"
      ]
     },
     "execution_count": 172,
     "metadata": {},
     "output_type": "execute_result"
    }
   ],
   "source": [
    "# Об'єднання двох DataFrame\n",
    "combined_author_data = pd.concat([author_books_count.set_index('author'), author_avg_rating.set_index('author')], axis=1).reset_index()\n",
    "combined_author_data"
   ]
  },
  {
   "cell_type": "code",
   "execution_count": 174,
   "id": "1ad23f23-c7f6-4f1c-813d-20a8ad002465",
   "metadata": {},
   "outputs": [
    {
     "data": {
      "text/plain": [
       "<function print(*args, sep=' ', end='\\n', file=None, flush=False)>"
      ]
     },
     "execution_count": 174,
     "metadata": {},
     "output_type": "execute_result"
    }
   ],
   "source": [
    "# Сортування DataFrame за зростанням кількості книг та рейтингу\n",
    "sorted_combined_author_data = combined_author_data.sort_values(by=['book_count', 'avg_rating'])\n",
    "first_author = sorted_combined_author_data.iloc[0]['author']\n",
    "\n",
    "print\n"
   ]
  },
  {
   "cell_type": "code",
   "execution_count": null,
   "id": "6100b40e-4788-41cd-bef4-ec46ad2412e6",
   "metadata": {},
   "outputs": [],
   "source": []
  }
 ],
 "metadata": {
  "kernelspec": {
   "display_name": "Python 3 (ipykernel)",
   "language": "python",
   "name": "python3"
  },
  "language_info": {
   "codemirror_mode": {
    "name": "ipython",
    "version": 3
   },
   "file_extension": ".py",
   "mimetype": "text/x-python",
   "name": "python",
   "nbconvert_exporter": "python",
   "pygments_lexer": "ipython3",
   "version": "3.12.4"
  }
 },
 "nbformat": 4,
 "nbformat_minor": 5
}
